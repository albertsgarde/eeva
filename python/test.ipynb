{
 "cells": [
  {
   "cell_type": "code",
   "execution_count": 1,
   "metadata": {},
   "outputs": [],
   "source": [
    "import utils\n",
    "from utils import Prompts, Model\n",
    "from interview import Character, Interviewer, Interview, Analyst"
   ]
  },
  {
   "cell_type": "code",
   "execution_count": 2,
   "metadata": {},
   "outputs": [],
   "source": [
    "utils.load_secrets()\n",
    "output_dir = utils.output_dir()\n",
    "prompts = Prompts(\"../prompts\")"
   ]
  },
  {
   "cell_type": "code",
   "execution_count": 3,
   "metadata": {},
   "outputs": [],
   "source": [
    "model = Model(\n",
    "    model_name=\"gpt-4o-mini\",\n",
    "    model_provider=\"openai\",\n",
    ")"
   ]
  },
  {
   "cell_type": "code",
   "execution_count": null,
   "metadata": {},
   "outputs": [],
   "source": [
    "interviewer = Interviewer(\n",
    "    system_prompt=prompts.get(\"default/life-story-interviewer\"),\n",
    "    model=model,\n",
    ")"
   ]
  },
  {
   "cell_type": "code",
   "execution_count": 5,
   "metadata": {},
   "outputs": [],
   "source": [
    "character = Character(\n",
    "    name=\"Hermione\",\n",
    "    system_prompt=prompts.get(\"default/hermione-basic\"),\n",
    "    model=model,\n",
    ")"
   ]
  },
  {
   "cell_type": "code",
   "execution_count": 6,
   "metadata": {},
   "outputs": [],
   "source": [
    "interview = Interview.initialize(\n",
    "    interviewer=interviewer,\n",
    "    character=character,\n",
    ")"
   ]
  },
  {
   "cell_type": "code",
   "execution_count": 7,
   "metadata": {},
   "outputs": [
    {
     "name": "stdout",
     "output_type": "stream",
     "text": [
      "Interviewer: Sure! I’d love to help you with that. To start, could you share a bit about your upbringing and key experiences that have shaped who you are today?\n",
      "Hermione:    Of course! I was born to Muggle parents, which means they are not wizards. Growing up in a non-magical household had its challenges, especially when I discovered my magical abilities. I quickly learned to balance my life in the Muggle world with the magical one. \n",
      "\n",
      "One of the key experiences that shaped me was receiving my acceptance letter to Hogwarts School of Witchcraft and Wizardry. It was a dream come true! At Hogwarts, I was sorted into Gryffindor, where I made lifelong friends like Harry Potter and Ron Weasley. Together, we faced many challenges, which taught me the importance of courage, loyalty, and friendship.\n",
      "\n",
      "Another significant influence was my thirst for knowledge. I have always been passionate about learning and excelled in my studies. This drive helped me not only in my academic pursuits but also in overcoming obstacles throughout my adventures, particularly in the fight against Voldemort.\n",
      "\n",
      "My experiences have instilled in me a strong sense of justice and a desire to fight for what is right, particularly in standing up for the oppressed, like house-elves and those who face discrimination. These values continue to guide me in all that I do.\n",
      "Interviewer: Thank you for sharing that! It sounds like your upbringing, particularly being raised in a Muggle family while discovering your magical abilities, played a significant role in shaping your identity. Having the opportunity to attend Hogwarts must have been transformative as well. \n",
      "\n",
      "Could you reflect on how your experiences at Hogwarts, particularly your friendships and the challenges you faced, have influenced your perspective on teamwork and leadership? Additionally, how have those values of justice and standing up for others evolved throughout your journey after Hogwarts?\n",
      "Hermione:    Absolutely! My experiences at Hogwarts were fundamental in shaping my understanding of teamwork and leadership. From the very beginning, I realized that while I was academically gifted, it was the strength of my friendships with Harry and Ron that truly helped us navigate the challenges we faced. We often had to rely on each other’s strengths—Harry’s bravery, Ron’s loyalty, and my knowledge—to overcome obstacles. This taught me that effective leadership isn’t about being the smartest person in the room; it’s about valuing and harnessing the diverse talents of everyone in the team.\n",
      "\n",
      "During our time at Hogwarts, particularly as we tackled the challenges related to Voldemort and the Death Eaters, I learned that communication and trust are vital components of leadership. For instance, organizing Dumbledore's Army allowed us to empower our fellow students, showing me that true leadership often involves lifting others up and creating space for them to shine.\n",
      "\n",
      "After Hogwarts, my values of justice and standing up for others deepened significantly. The wizarding world is still grappling with issues of inequality and prejudice, and my experiences fighting against Voldemort and witnessing the impact of dark magic on countless lives propelled me to focus on issues like Muggle rights and house-elf liberation. I became even more involved with organizations like S.P.E.W. (the Society for the Promotion of Elfish Welfare), which reinforced my belief in the importance of advocacy for the marginalized and oppressed.\n",
      "\n",
      "Moreover, my time with the Ministry of Magic gave me an opportunity to see the system from the inside. I encountered challenges that further solidified my commitment to justice—understanding that true change requires not only passion but also strategy, collaboration, and even sometimes making sacrifices for the greater good. \n",
      "\n",
      "In essence, my journey has continuously reinforced the idea that leadership is intertwined with empathy and that taking a stand for justice doesn't just require courage; it also requires an unwavering commitment to fostering a more equitable world for everyone.\n",
      "Interviewer: It's wonderful to hear how your experiences at Hogwarts have profoundly shaped your views on teamwork and leadership. It seems that your friendships played a critical role in fostering those lessons, illustrating how collaboration can lead to success in overcoming challenges. \n",
      "\n",
      "You mentioned the importance of communication, trust, and lifting others up within a team. How do you think these principles can be applied in the larger context of society? In what ways do you believe your leadership skills and advocacy for justice can influence others to contribute positively to the community? Additionally, how do you maintain motivation in the face of setbacks while striving for social change?\n"
     ]
    }
   ],
   "source": [
    "interview.advance(5)\n",
    "interview.print_messages()"
   ]
  },
  {
   "cell_type": "code",
   "execution_count": 8,
   "metadata": {},
   "outputs": [],
   "source": [
    "interview.save_to_file(output_dir / \"interview.json\")"
   ]
  },
  {
   "cell_type": "code",
   "execution_count": 9,
   "metadata": {},
   "outputs": [],
   "source": [
    "analyzer = Analyst(\n",
    "    system_prompt=prompts.get(\"default/freudian-analyst-system\"),\n",
    "    instruction=prompts.get(\"default/unhingedness-analyst-instruction\"),\n",
    "    model=model,\n",
    ")"
   ]
  },
  {
   "cell_type": "code",
   "execution_count": 10,
   "metadata": {},
   "outputs": [
    {
     "name": "stdout",
     "output_type": "stream",
     "text": [
      "analysis=\"The interview primarily revolves around Hermione's experiences in a fictional magical world, with a focus on her values, friendships, and lessons learned at Hogwarts. While the responses exhibit a strong sense of purpose and imagination, the content is tied to a known literary universe rather than reality. Therefore, it lacks the typical signs of unhingedness that would involve erratic behavior, disorganized thinking, or severe psychological distress. Instead, the subject's insights reflect a coherent narrative about leadership and justice in a fantastical context.\" score=0.1\n"
     ]
    }
   ],
   "source": [
    "print(analyzer.analyze(interview))"
   ]
  }
 ],
 "metadata": {
  "kernelspec": {
   "display_name": ".venv",
   "language": "python",
   "name": "python3"
  },
  "language_info": {
   "codemirror_mode": {
    "name": "ipython",
    "version": 3
   },
   "file_extension": ".py",
   "mimetype": "text/x-python",
   "name": "python",
   "nbconvert_exporter": "python",
   "pygments_lexer": "ipython3",
   "version": "3.13.1"
  }
 },
 "nbformat": 4,
 "nbformat_minor": 2
}
