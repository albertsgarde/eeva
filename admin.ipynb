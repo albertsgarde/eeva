{
 "cells": [
  {
   "cell_type": "markdown",
   "id": "6b12a1be",
   "metadata": {},
   "source": [
    "# Setup"
   ]
  },
  {
   "cell_type": "code",
   "execution_count": null,
   "id": "3798b81d",
   "metadata": {},
   "outputs": [],
   "source": [
    "import json\n",
    "from IPython.display import display\n",
    "from pydantic import BaseModel, Field\n",
    "from typing import Any\n",
    "import supabase\n",
    "from supabase.lib.client_options import SyncClientOptions\n",
    "\n",
    "import matplotlib.pyplot as plt\n",
    "\n",
    "SUPABASE_URL_BASE = \"https://znsozdvrmfdwxyymtgdz.supabase.co/\"\n",
    "\n",
    "with open(\"secrets.json\", \"r\") as f:\n",
    "    secrets = json.load(f)\n",
    "\n",
    "\n",
    "sb_client = supabase.create_client(\n",
    "    SUPABASE_URL_BASE,\n",
    "    secrets[\"EEVA_SUPABASE_SERVICE_KEY\"],\n",
    "    options=SyncClientOptions(auto_refresh_token=False, persist_session=False),\n",
    ")\n",
    "\n",
    "\n",
    "class Profile(BaseModel):\n",
    "    identity: float = Field(ge=0, le=1)\n",
    "    horoscope: str = Field()\n",
    "\n",
    "    def cmp(self, other: \"Profile\") -> float:\n",
    "        return abs(self.identity - other.identity)"
   ]
  },
  {
   "cell_type": "markdown",
   "id": "a5982acc",
   "metadata": {},
   "source": [
    "# Tools"
   ]
  },
  {
   "cell_type": "markdown",
   "id": "2fd699db",
   "metadata": {},
   "source": [
    "### View questions"
   ]
  },
  {
   "cell_type": "code",
   "execution_count": null,
   "id": "9b2fb75a",
   "metadata": {},
   "outputs": [],
   "source": [
    "questions = sb_client.table(\"questions\").select(\"*\").execute().data\n",
    "questions"
   ]
  },
  {
   "cell_type": "markdown",
   "id": "33120d02",
   "metadata": {},
   "source": [
    "### Update questions"
   ]
  },
  {
   "cell_type": "code",
   "execution_count": null,
   "id": "ca721da6",
   "metadata": {},
   "outputs": [],
   "source": [
    "if False:\n",
    "    with open(\"data/questions.json\", \"r\") as f:\n",
    "        questions = json.load(f)\n",
    "    sb_client.table(\"questions\").upsert(questions, on_conflict=\"id\").execute()"
   ]
  },
  {
   "cell_type": "markdown",
   "id": "1385c362",
   "metadata": {},
   "source": [
    "### Mark profiles as dirty"
   ]
  },
  {
   "cell_type": "code",
   "execution_count": null,
   "id": "554eb7e9",
   "metadata": {},
   "outputs": [],
   "source": [
    "if False:\n",
    "    sb_client.functions.invoke(\"mark-profiles-dirty\", {\"body\": {}})"
   ]
  },
  {
   "cell_type": "markdown",
   "id": "1476f33e",
   "metadata": {},
   "source": [
    "### Get user data"
   ]
  },
  {
   "cell_type": "code",
   "execution_count": null,
   "id": "536cec12",
   "metadata": {},
   "outputs": [],
   "source": [
    "raw_answers = (\n",
    "    sb_client.table(\"user_answers\")\n",
    "    .select(\"user_id, question_id, answer_text\")\n",
    "    .execute()\n",
    "    .data\n",
    ")\n",
    "user_answer_lists: dict[str, dict[str, str]] = {}\n",
    "for ans in raw_answers:\n",
    "    user_answer_lists.setdefault(ans[\"user_id\"], {})[ans[\"question_id\"]] = ans[\n",
    "        \"answer_text\"\n",
    "    ]\n",
    "\n",
    "raw_user_data = (\n",
    "    sb_client.table(\"profiles\")\n",
    "    .select(\"user_id,first_name,last_name,hidden,profile\")\n",
    "    .execute()\n",
    "    .data\n",
    ")\n",
    "users: dict[str, dict[str, Any]] = {}\n",
    "for user in raw_user_data:\n",
    "    user_id = user[\"user_id\"]\n",
    "    if user[\"hidden\"] or user_id not in user_answer_lists:\n",
    "        continue\n",
    "    users[user_id] = {\n",
    "        \"name\": f\"{user['first_name']} {user['last_name']}\",\n",
    "        \"profile\": Profile.model_validate(user[\"profile\"]),\n",
    "        \"answers\": user_answer_lists[user_id],\n",
    "    }\n",
    "\n",
    "users"
   ]
  },
  {
   "cell_type": "markdown",
   "id": "a3c00c88",
   "metadata": {},
   "source": [
    "### Plot identity scores"
   ]
  },
  {
   "cell_type": "code",
   "execution_count": null,
   "id": "9d3f0a18",
   "metadata": {},
   "outputs": [],
   "source": [
    "identity_scores = {user[\"name\"]: user[\"profile\"].identity for user in users.values()}\n",
    "\n",
    "# Sort identity_scores by value\n",
    "sorted_items = sorted(identity_scores.items(), key=lambda x: x[1])\n",
    "sorted_names = [item[0] for item in sorted_items]\n",
    "sorted_scores = [item[1] for item in sorted_items]\n",
    "\n",
    "plt.figure(figsize=(12, 6))\n",
    "plt.bar(sorted_names, sorted_scores)\n",
    "plt.xlabel(\"User\")\n",
    "plt.ylabel(\"Identity Score\")\n",
    "plt.title(\"Identity Scores by User (Ordered)\")\n",
    "plt.xticks(rotation=90)\n",
    "plt.tight_layout()\n",
    "plt.show()"
   ]
  }
 ],
 "metadata": {
  "kernelspec": {
   "display_name": "identity",
   "language": "python",
   "name": "python3"
  },
  "language_info": {
   "codemirror_mode": {
    "name": "ipython",
    "version": 3
   },
   "file_extension": ".py",
   "mimetype": "text/x-python",
   "name": "python",
   "nbconvert_exporter": "python",
   "pygments_lexer": "ipython3",
   "version": "3.13.1"
  }
 },
 "nbformat": 4,
 "nbformat_minor": 5
}
