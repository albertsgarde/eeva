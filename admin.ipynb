{
 "cells": [
  {
   "cell_type": "markdown",
   "id": "6b12a1be",
   "metadata": {},
   "source": [
    "# Setup"
   ]
  },
  {
   "cell_type": "code",
   "execution_count": null,
   "id": "3798b81d",
   "metadata": {},
   "outputs": [],
   "source": [
    "import json\n",
    "from IPython.display import display\n",
    "import supabase\n",
    "from supabase.lib.client_options import SyncClientOptions\n",
    "\n",
    "SUPABASE_URL_BASE = \"https://znsozdvrmfdwxyymtgdz.supabase.co/\"\n",
    "\n",
    "with open(\"secrets.json\", \"r\") as f:\n",
    "    secrets = json.load(f)\n",
    "\n",
    "\n",
    "sb_client = supabase.create_client(\n",
    "    SUPABASE_URL_BASE,\n",
    "    secrets[\"EEVA_SUPABASE_SERVICE_KEY\"],\n",
    "    options=SyncClientOptions(auto_refresh_token=False, persist_session=False),\n",
    ")"
   ]
  },
  {
   "cell_type": "markdown",
   "id": "a5982acc",
   "metadata": {},
   "source": [
    "# Tools"
   ]
  },
  {
   "cell_type": "markdown",
   "id": "2fd699db",
   "metadata": {},
   "source": [
    "### View questions"
   ]
  },
  {
   "cell_type": "code",
   "execution_count": null,
   "id": "9b2fb75a",
   "metadata": {},
   "outputs": [],
   "source": [
    "questions = sb_client.table(\"questions\").select(\"*\").execute().data\n",
    "questions"
   ]
  },
  {
   "cell_type": "markdown",
   "id": "33120d02",
   "metadata": {},
   "source": [
    "### Update questions"
   ]
  },
  {
   "cell_type": "code",
   "execution_count": null,
   "id": "ca721da6",
   "metadata": {},
   "outputs": [],
   "source": [
    "with open(\"data/questions.json\", \"r\") as f:\n",
    "    questions = json.load(f)\n",
    "sb_client.table(\"questions\").upsert(questions, on_conflict=\"id\").execute()"
   ]
  }
 ],
 "metadata": {
  "kernelspec": {
   "display_name": "identity",
   "language": "python",
   "name": "python3"
  },
  "language_info": {
   "codemirror_mode": {
    "name": "ipython",
    "version": 3
   },
   "file_extension": ".py",
   "mimetype": "text/x-python",
   "name": "python",
   "nbconvert_exporter": "python",
   "pygments_lexer": "ipython3",
   "version": "3.13.1"
  }
 },
 "nbformat": 4,
 "nbformat_minor": 5
}
