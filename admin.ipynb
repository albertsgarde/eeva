{
 "cells": [
  {
   "cell_type": "markdown",
   "id": "6b12a1be",
   "metadata": {},
   "source": [
    "# Setup"
   ]
  },
  {
   "cell_type": "code",
   "execution_count": null,
   "id": "ab435c2e",
   "metadata": {},
   "outputs": [],
   "source": [
    "LOCAL = True\n",
    "\n",
    "LOCAL_HOST = '192.168.50.200'"
   ]
  },
  {
   "cell_type": "code",
   "execution_count": null,
   "id": "3798b81d",
   "metadata": {},
   "outputs": [],
   "source": [
    "import requests\n",
    "import json\n",
    "from IPython.display import display\n",
    "\n",
    "if LOCAL:\n",
    "    SITE_URL_BASE = f\"\"\"http://{LOCAL_HOST}:5173/\"\"\"\n",
    "else:\n",
    "    SITE_URL_BASE = \"\"\"https://eeva.site/\"\"\"\n",
    "\n",
    "def response_or_error(response):\n",
    "    if response.status_code != 200:\n",
    "        print(f\"Error: {response.status_code} - {response.text}\")\n",
    "    else:\n",
    "        return response.json()\n",
    "    \n",
    "def get(path: str) -> dict:\n",
    "    return response_or_error(requests.get(f\"{SITE_URL_BASE}{path}\"))\n",
    "\n",
    "def post(path: str, body: dict | str) -> dict:\n",
    "    if isinstance(body, str):\n",
    "        body = json.loads(body)\n",
    "    return response_or_error(requests.post(f\"{SITE_URL_BASE}{path}\", json=body))\n",
    "\n",
    "def put(path: str, body: dict | str) -> dict:\n",
    "    if isinstance(body, str):\n",
    "        body = json.loads(body)\n",
    "    return response_or_error(requests.put(f\"{SITE_URL_BASE}{path}\", json=body))\n",
    "\n",
    "def delete(path: str) -> dict:\n",
    "    return response_or_error(requests.delete(f\"{SITE_URL_BASE}{path}\"))"
   ]
  },
  {
   "cell_type": "markdown",
   "id": "a5982acc",
   "metadata": {},
   "source": [
    "# Tools"
   ]
  },
  {
   "cell_type": "markdown",
   "id": "15841e8c",
   "metadata": {},
   "source": [
    "### View Questions"
   ]
  },
  {
   "cell_type": "code",
   "execution_count": null,
   "id": "c1b98f6d",
   "metadata": {},
   "outputs": [],
   "source": [
    "questions = get(\"api/questions\")\n",
    "questions"
   ]
  },
  {
   "cell_type": "markdown",
   "id": "154f88d8",
   "metadata": {},
   "source": [
    "### Update questions"
   ]
  },
  {
   "cell_type": "code",
   "execution_count": null,
   "id": "8cc42437",
   "metadata": {},
   "outputs": [],
   "source": [
    "questions_json_path = \"data/questions.json\"\n",
    "\n",
    "with open(questions_json_path, \"r\", encoding=\"utf-8\") as file:\n",
    "    questions = json.load(file)\n",
    "    display(put(\"api/questions\", questions))"
   ]
  },
  {
   "cell_type": "markdown",
   "id": "62cbbcec",
   "metadata": {},
   "source": [
    "### View forms"
   ]
  },
  {
   "cell_type": "code",
   "execution_count": null,
   "id": "7dbb368d",
   "metadata": {},
   "outputs": [],
   "source": [
    "forms = get(\"api/forms\")\n",
    "forms"
   ]
  },
  {
   "cell_type": "markdown",
   "id": "29691806",
   "metadata": {},
   "source": [
    "### Create/update form"
   ]
  },
  {
   "cell_type": "code",
   "execution_count": null,
   "id": "f23123d5",
   "metadata": {},
   "outputs": [],
   "source": [
    "form_id = \"default\"\n",
    "question_ids = [\"lytte-tale\", \"issmag-er-du\", 'are-you-morning-person-DK', 'bukke-under-for-gruppepres']\n",
    "\n",
    "put(f\"api/forms/{form_id}\", {\"questions\": question_ids})"
   ]
  },
  {
   "cell_type": "markdown",
   "id": "db594d6e",
   "metadata": {},
   "source": [
    "### View responses"
   ]
  },
  {
   "cell_type": "code",
   "execution_count": null,
   "id": "fc0c6bb8",
   "metadata": {},
   "outputs": [],
   "source": [
    "form_responses = get(\"api/form-responses\")\n",
    "form_responses"
   ]
  }
 ],
 "metadata": {
  "kernelspec": {
   "display_name": "eeva",
   "language": "python",
   "name": "python3"
  },
  "language_info": {
   "codemirror_mode": {
    "name": "ipython",
    "version": 3
   },
   "file_extension": ".py",
   "mimetype": "text/x-python",
   "name": "python",
   "nbconvert_exporter": "python",
   "pygments_lexer": "ipython3",
   "version": "3.13.4"
  }
 },
 "nbformat": 4,
 "nbformat_minor": 5
}
