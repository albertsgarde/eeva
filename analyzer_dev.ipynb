{
 "cells": [
  {
   "cell_type": "code",
   "execution_count": null,
   "id": "e302c075",
   "metadata": {},
   "outputs": [],
   "source": [
    "from typing import Annotated, Callable\n",
    "from concurrent.futures import ThreadPoolExecutor\n",
    "import json\n",
    "import os\n",
    "\n",
    "from langchain_core.messages import BaseMessage, HumanMessage, SystemMessage\n",
    "from langchain import chat_models\n",
    "from pydantic import BaseModel, Field, RootModel"
   ]
  },
  {
   "cell_type": "markdown",
   "id": "c201a7a2",
   "metadata": {},
   "source": [
    "### Define the shape of the profile an analyzer should return"
   ]
  },
  {
   "cell_type": "code",
   "execution_count": null,
   "id": "5200c32f",
   "metadata": {},
   "outputs": [],
   "source": [
    "class Profile(BaseModel):\n",
    "    identity: float = Field(ge=0, le=1)\n",
    "\n",
    "    def cmp(self, other: \"Profile\") -> float:\n",
    "        return abs(self.identity - other.identity)\n"
   ]
  },
  {
   "cell_type": "markdown",
   "id": "8f265179",
   "metadata": {},
   "source": [
    "### Run setup\n",
    "You probably wanna collapse this cell most of the time."
   ]
  },
  {
   "cell_type": "code",
   "execution_count": null,
   "id": "19a850dd",
   "metadata": {},
   "outputs": [],
   "source": [
    "class QuestionResponse(BaseModel):\n",
    "    question: str = Field()\n",
    "    response: str = Field()\n",
    "\n",
    "\n",
    "Response = Annotated[dict[str, QuestionResponse], Field()]\n",
    "\n",
    "ResponseSet = Annotated[dict[str, Response], Field()]\n",
    "\n",
    "ProfileSet = Annotated[dict[str, Profile], Field()]\n",
    "\n",
    "\n",
    "Analyzer = Callable[[Response], Profile]\n",
    "\n",
    "with open(\"secrets.json\", \"r\") as f:\n",
    "    secrets = json.load(f)\n",
    "    os.environ[\"OPENAI_API_KEY\"] = secrets[\"OPENAI_API_KEY\"]\n",
    "\n",
    "llm = chat_models.init_chat_model(\"gpt-4o-mini\", model_provider=\"openai\")\n",
    "\n",
    "with open(\"data/training_responses.json\", \"r\") as f:\n",
    "\n",
    "    class ResponseSetDeserializer(RootModel[dict[str, Response]]):\n",
    "        pass\n",
    "\n",
    "    training_responses = ResponseSetDeserializer.model_validate_json(f.read()).root\n",
    "\n",
    "\n",
    "def test_analyzer(\n",
    "    analyzer: Analyzer, responses: ResponseSet, expected: ProfileSet\n",
    ") -> float:\n",
    "    if responses.keys() != expected.keys():\n",
    "        raise ValueError(\"ResponseSet keys do not match ProfileSet keys\")\n",
    "\n",
    "    with ThreadPoolExecutor() as executor:\n",
    "        profiles = list(executor.map(analyzer, responses.values()))\n",
    "\n",
    "    total_error = 0.0\n",
    "    for key, response in responses.items():\n",
    "        expected_profile = expected[key]\n",
    "        profile = analyzer(response)\n",
    "        error = profile.cmp(expected_profile)\n",
    "        total_error += error\n",
    "    return total_error / len(responses) if responses else 0.0"
   ]
  },
  {
   "cell_type": "markdown",
   "id": "e35b5f72",
   "metadata": {},
   "source": [
    "### Set expected profiles"
   ]
  },
  {
   "cell_type": "code",
   "execution_count": null,
   "id": "27f683f0",
   "metadata": {},
   "outputs": [],
   "source": [
    "expected_profiles = {}\n",
    "for key in training_responses.keys():\n",
    "    expected_profiles[key] = Profile(identity=0.5)"
   ]
  },
  {
   "cell_type": "markdown",
   "id": "320e4a6b",
   "metadata": {},
   "source": [
    "### Define analyzer"
   ]
  },
  {
   "cell_type": "code",
   "execution_count": null,
   "id": "00e15aa5",
   "metadata": {},
   "outputs": [],
   "source": [
    "def awesome_analyzer_that_totally_works(response: Response) -> Profile:\n",
    "    # This is a placeholder for the actual analysis logic.\n",
    "    # For now, it just returns a profile with identity 0.6.\n",
    "    structured_llm = llm.with_structured_output(Profile)\n",
    "\n",
    "    content = \"\\n\".join(\n",
    "        f\"{question}: {question_response.response}\"\n",
    "        for question, question_response in response.items()\n",
    "    )\n",
    "\n",
    "    response = structured_llm.invoke(\n",
    "        [\n",
    "            SystemMessage(\n",
    "                content=\"How high is the identity of this set of answers on a scale from 0 to 1?\"\n",
    "            ),\n",
    "            HumanMessage(content=content),\n",
    "        ]\n",
    "    )\n",
    "\n",
    "    return response"
   ]
  },
  {
   "cell_type": "markdown",
   "id": "0d4d27a5",
   "metadata": {},
   "source": [
    "### Test the analyzer"
   ]
  },
  {
   "cell_type": "code",
   "execution_count": null,
   "id": "4d012909",
   "metadata": {},
   "outputs": [],
   "source": [
    "error = test_analyzer(\n",
    "    analyzer=awesome_analyzer_that_totally_works,\n",
    "    responses=training_responses,\n",
    "    expected=expected_profiles,\n",
    ")\n",
    "error"
   ]
  }
 ],
 "metadata": {
  "kernelspec": {
   "display_name": "identity",
   "language": "python",
   "name": "python3"
  },
  "language_info": {
   "codemirror_mode": {
    "name": "ipython",
    "version": 3
   },
   "file_extension": ".py",
   "mimetype": "text/x-python",
   "name": "python",
   "nbconvert_exporter": "python",
   "pygments_lexer": "ipython3",
   "version": "3.13.1"
  }
 },
 "nbformat": 4,
 "nbformat_minor": 5
}
