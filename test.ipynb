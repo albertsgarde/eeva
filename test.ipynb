{
 "cells": [
  {
   "cell_type": "code",
   "execution_count": 1,
   "metadata": {},
   "outputs": [],
   "source": [
    "import json\n",
    "import os\n",
    "\n",
    "from conversation import ConversationConfig"
   ]
  },
  {
   "cell_type": "code",
   "execution_count": 2,
   "metadata": {},
   "outputs": [],
   "source": [
    "secrets = json.load(open(\"secrets.json\"))\n",
    "for key, value in secrets.items():\n",
    "    os.environ[key] = value"
   ]
  },
  {
   "cell_type": "code",
   "execution_count": 3,
   "metadata": {},
   "outputs": [],
   "source": [
    "role0_system_prompt = (\n",
    "    \"You are in a conversation with a friend you have a slight crush on\"\n",
    ")\n",
    "role1_system_prompt = (\n",
    "    \"You are in a conversation with a friend you need to ask for money\"\n",
    ")\n",
    "role0_start_message = \"How are you doing?\""
   ]
  },
  {
   "cell_type": "code",
   "execution_count": 4,
   "metadata": {},
   "outputs": [],
   "source": [
    "config = ConversationConfig(\n",
    "    role0_system_prompt=role0_system_prompt,\n",
    "    role1_system_prompt=role1_system_prompt,\n",
    "    role0_start_message=role0_start_message,\n",
    ")\n",
    "conversation = config.create_conversation()"
   ]
  },
  {
   "cell_type": "code",
   "execution_count": 5,
   "metadata": {},
   "outputs": [],
   "source": [
    "conversation = config.create_conversation()"
   ]
  },
  {
   "cell_type": "code",
   "execution_count": 6,
   "metadata": {},
   "outputs": [
    {
     "name": "stdout",
     "output_type": "stream",
     "text": [
      "0: How are you doing?\n",
      "1: I'm doing well, thanks for asking! How about you?\n",
      "0: I'm doing pretty good too, just enjoying the day. What have you been up to lately?\n",
      "1: I've been keeping busy with work and some hobbies. I’ve been thinking about planning a little getaway soon, though! How about you? Anything exciting happening in your life?\n",
      "0: That sounds nice! A getaway could be just what you need. I've been trying to explore some new hobbies as well and catching up on my favorite shows. Nothing too wild, but it’s been enjoyable. Do you have any particular destination in mind for your getaway?\n",
      "1: I'm thinking about heading somewhere with some beautiful nature—maybe a national park or a beach. I really need to recharge! Speaking of which, I could use a little help right now. Would you be able to lend me some money? It would really help me out with planning the getaway.\n"
     ]
    }
   ],
   "source": [
    "conversation.advance(5)\n",
    "conversation.print_messages()"
   ]
  },
  {
   "cell_type": "code",
   "execution_count": null,
   "metadata": {},
   "outputs": [
    {
     "name": "stdout",
     "output_type": "stream",
     "text": [
      "In analyzing this conversation, we see a friendly exchange that transitions into a more personal request. The dialogue begins light and casual, typical of acquaintances catching up on life updates. However, Bob's sudden request for money to help with his getaway injects an unexpected element into the conversation. \n",
      "\n",
      "The progression from discussing everyday activities to a financial request creates a slight jolt in the flow, which could be interpreted as somewhat unhinged depending on the context of their relationship. Without additional context about their friendship or Bob's circumstances, the request could feel abrupt or inappropriate.\n",
      "\n",
      "On a scale from 1 to 10 for how unhinged this conversation is, I would rate it a **4**. It's not wildly out of the realm of possibility for someone to ask for monetary assistance, but it does introduce a level of discomfort that disrupts the otherwise normal interaction.\n"
     ]
    }
   ],
   "source": [
    "print(\n",
    "    conversation.analyze(\n",
    "        \"Alice\",\n",
    "        \"Bob\",\n",
    "        \"You are a Freudian psychotherapist\",\n",
    "        \"Analyze the conversation and give it a score from 1 to 10 for how unhinged it is\",\n",
    "    )\n",
    ")"
   ]
  }
 ],
 "metadata": {
  "kernelspec": {
   "display_name": ".venv",
   "language": "python",
   "name": "python3"
  },
  "language_info": {
   "codemirror_mode": {
    "name": "ipython",
    "version": 3
   },
   "file_extension": ".py",
   "mimetype": "text/x-python",
   "name": "python",
   "nbconvert_exporter": "python",
   "pygments_lexer": "ipython3",
   "version": "3.13.1"
  }
 },
 "nbformat": 4,
 "nbformat_minor": 2
}
