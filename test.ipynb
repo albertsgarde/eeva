{
 "cells": [
  {
   "cell_type": "code",
   "execution_count": 1,
   "metadata": {},
   "outputs": [],
   "source": [
    "import utils\n",
    "from conversation import ConversationConfig, Analyzer"
   ]
  },
  {
   "cell_type": "code",
   "execution_count": 2,
   "metadata": {},
   "outputs": [],
   "source": [
    "utils.load_secrets()\n",
    "output_dir = utils.output_dir()"
   ]
  },
  {
   "cell_type": "code",
   "execution_count": 3,
   "metadata": {},
   "outputs": [],
   "source": [
    "role0_system_prompt = (\n",
    "    \"You are in a conversation with a friend you have a slight crush on\"\n",
    ")\n",
    "role1_system_prompt = (\n",
    "    \"You are in a conversation with a friend you need to ask for money\"\n",
    ")\n",
    "role0_start_message = \"How are you doing?\""
   ]
  },
  {
   "cell_type": "code",
   "execution_count": 4,
   "metadata": {},
   "outputs": [],
   "source": [
    "config = ConversationConfig(\n",
    "    role0_system_prompt=role0_system_prompt,\n",
    "    role1_system_prompt=role1_system_prompt,\n",
    "    role0_start_message=role0_start_message,\n",
    "    role0_name=\"Alice\",\n",
    "    role1_name=\"Bob\",\n",
    ")\n",
    "conversation = config.create_conversation()"
   ]
  },
  {
   "cell_type": "code",
   "execution_count": 5,
   "metadata": {},
   "outputs": [],
   "source": [
    "conversation = config.create_conversation()"
   ]
  },
  {
   "cell_type": "code",
   "execution_count": null,
   "metadata": {},
   "outputs": [],
   "source": [
    "conversation.advance(5)\n",
    "conversation.print_messages()"
   ]
  },
  {
   "cell_type": "code",
   "execution_count": 7,
   "metadata": {},
   "outputs": [],
   "source": [
    "conversation.save_to_file(output_dir / \"conversation.json\")"
   ]
  },
  {
   "cell_type": "code",
   "execution_count": 8,
   "metadata": {},
   "outputs": [],
   "source": [
    "analyzer = Analyzer(\n",
    "    system_prompt=\"You are a Freudian psychotherapist\",\n",
    "    instruction=\"Analyze the conversation and give it a score from 0 to 1 for how unhinged it is\",\n",
    ")"
   ]
  },
  {
   "cell_type": "code",
   "execution_count": null,
   "metadata": {},
   "outputs": [],
   "source": [
    "print(analyzer.analyze(conversation))"
   ]
  },
  {
   "cell_type": "code",
   "execution_count": 10,
   "metadata": {},
   "outputs": [],
   "source": [
    "scores = [analyzer.analyze(conversation).score for _ in range(10)]"
   ]
  },
  {
   "cell_type": "code",
   "execution_count": null,
   "metadata": {},
   "outputs": [],
   "source": [
    "scores"
   ]
  }
 ],
 "metadata": {
  "kernelspec": {
   "display_name": ".venv",
   "language": "python",
   "name": "python3"
  },
  "language_info": {
   "codemirror_mode": {
    "name": "ipython",
    "version": 3
   },
   "file_extension": ".py",
   "mimetype": "text/x-python",
   "name": "python",
   "nbconvert_exporter": "python",
   "pygments_lexer": "ipython3",
   "version": "3.13.1"
  }
 },
 "nbformat": 4,
 "nbformat_minor": 2
}
