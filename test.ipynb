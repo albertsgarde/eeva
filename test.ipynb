{
 "cells": [
  {
   "cell_type": "code",
   "execution_count": 1,
   "metadata": {},
   "outputs": [],
   "source": [
    "import utils\n",
    "from conversation import ConversationConfig"
   ]
  },
  {
   "cell_type": "code",
   "execution_count": 2,
   "metadata": {},
   "outputs": [],
   "source": [
    "utils.load_secrets()"
   ]
  },
  {
   "cell_type": "code",
   "execution_count": 3,
   "metadata": {},
   "outputs": [],
   "source": [
    "role0_system_prompt = (\n",
    "    \"You are in a conversation with a friend you have a slight crush on\"\n",
    ")\n",
    "role1_system_prompt = (\n",
    "    \"You are in a conversation with a friend you need to ask for money\"\n",
    ")\n",
    "role0_start_message = \"How are you doing?\""
   ]
  },
  {
   "cell_type": "code",
   "execution_count": 4,
   "metadata": {},
   "outputs": [],
   "source": [
    "config = ConversationConfig(\n",
    "    role0_system_prompt=role0_system_prompt,\n",
    "    role1_system_prompt=role1_system_prompt,\n",
    "    role0_start_message=role0_start_message,\n",
    "    role0_name=\"Alice\",\n",
    "    role1_name=\"Bob\",\n",
    ")\n",
    "conversation = config.create_conversation()"
   ]
  },
  {
   "cell_type": "code",
   "execution_count": 5,
   "metadata": {},
   "outputs": [],
   "source": [
    "conversation = config.create_conversation()"
   ]
  },
  {
   "cell_type": "code",
   "execution_count": 6,
   "metadata": {},
   "outputs": [
    {
     "name": "stdout",
     "output_type": "stream",
     "text": [
      "Alice: How are you doing?\n",
      "Bob:   I'm doing well, thanks! How about you?\n",
      "Alice: I’m doing pretty well, just trying to stay busy. Any fun plans for the weekend?\n",
      "Bob:   I don't have any big plans yet, just catching up on some things. What about you? \n",
      "Alice: I might just take it easy, maybe explore a new spot in town or catch up on some shows. But I’m open to suggestions if you’re thinking of doing something fun!\n",
      "Bob:   That sounds nice! I might have to join you for that exploring if you're up for it. By the way, I was wondering if I could ask you for a little favor. I’m in a bit of a tight spot financially right now. Would you be able to lend me some money until I get back on my feet? I’d really appreciate it!\n"
     ]
    }
   ],
   "source": [
    "conversation.advance(5)\n",
    "conversation.print_messages()"
   ]
  },
  {
   "cell_type": "code",
   "execution_count": 11,
   "metadata": {},
   "outputs": [
    {
     "name": "stdout",
     "output_type": "stream",
     "text": [
      "The conversation you presented seems quite normal, with Alice and Bob discussing their weekend plans in a friendly manner. There is a slight shift when Bob brings up a financial request, which can introduce some tension, but overall, the interaction remains polite and straightforward. \n",
      "\n",
      "In Freudian terms, we might analyze Bob’s request for help as indicative of reliance on relational dynamics and the potential transference of feelings of dependency. The way he presents his situation suggests vulnerability, which is common in interpersonal relationships when one seeks assistance. Alice’s willingness to explore options with Bob also reflects a healthy and supportive dynamic.\n",
      "\n",
      "Given this context, I would score the conversation a 2 out of 10 on the unhinged scale. The dialogue remains grounded in reality, with only a minor shift toward an uncomfortable topic that many people encounter in social relationships.\n"
     ]
    }
   ],
   "source": [
    "print(\n",
    "    conversation.analyze(\n",
    "        system_prompt=\"You are a Freudian psychotherapist\",\n",
    "        prefix=\"Analyze the conversation and give it a score from 1 to 10 for how unhinged it is\",\n",
    "    )\n",
    ")"
   ]
  }
 ],
 "metadata": {
  "kernelspec": {
   "display_name": ".venv",
   "language": "python",
   "name": "python3"
  },
  "language_info": {
   "codemirror_mode": {
    "name": "ipython",
    "version": 3
   },
   "file_extension": ".py",
   "mimetype": "text/x-python",
   "name": "python",
   "nbconvert_exporter": "python",
   "pygments_lexer": "ipython3",
   "version": "3.13.1"
  }
 },
 "nbformat": 4,
 "nbformat_minor": 2
}
