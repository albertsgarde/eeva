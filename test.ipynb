{
 "cells": [
  {
   "cell_type": "code",
   "execution_count": 1,
   "metadata": {},
   "outputs": [],
   "source": [
    "from eeva import utils\n",
    "from eeva.utils import Prompts, Model\n",
    "from eeva.interview import Interviewer, Analyst\n",
    "from eeva.simulation import Character, InterviewSimulation\n",
    "\n",
    "from pathlib import Path"
   ]
  },
  {
   "cell_type": "code",
   "execution_count": 2,
   "metadata": {},
   "outputs": [],
   "source": [
    "utils.load_secrets(\"secrets.json\")\n",
    "output_dir = Path(\"output\")\n",
    "prompts = Prompts(\"prompts\")"
   ]
  },
  {
   "cell_type": "code",
   "execution_count": 3,
   "metadata": {},
   "outputs": [],
   "source": [
    "model = Model(\n",
    "    model_name=\"gpt-4o-mini\",\n",
    "    model_provider=\"openai\",\n",
    ")"
   ]
  },
  {
   "cell_type": "code",
   "execution_count": 4,
   "metadata": {},
   "outputs": [],
   "source": [
    "interviewer = Interviewer(\n",
    "    system_prompt=prompts.get(\"default/life-story-interviewer\"),\n",
    "    model=model,\n",
    ")"
   ]
  },
  {
   "cell_type": "code",
   "execution_count": 5,
   "metadata": {},
   "outputs": [],
   "source": [
    "character = Character(\n",
    "    name=\"Hermione\",\n",
    "    system_prompt=prompts.get(\"default/hermione-basic\"),\n",
    "    model=model,\n",
    ")"
   ]
  },
  {
   "cell_type": "code",
   "execution_count": 6,
   "metadata": {},
   "outputs": [],
   "source": [
    "interview = InterviewSimulation.initialize(\n",
    "    interviewer=interviewer,\n",
    "    character=character,\n",
    ")"
   ]
  },
  {
   "cell_type": "code",
   "execution_count": null,
   "metadata": {},
   "outputs": [],
   "source": [
    "interview.advance(3)\n",
    "interview.print_messages()"
   ]
  },
  {
   "cell_type": "code",
   "execution_count": 8,
   "metadata": {},
   "outputs": [],
   "source": [
    "interview.save_to_file(output_dir / \"interview.json\")"
   ]
  },
  {
   "cell_type": "code",
   "execution_count": 9,
   "metadata": {},
   "outputs": [],
   "source": [
    "analyst = Analyst(\n",
    "    system_prompt=prompts.get(\"default/freudian-analyst-system\"),\n",
    "    instruction=prompts.get(\"default/unhingedness-analyst-instruction\"),\n",
    "    model=model,\n",
    ")"
   ]
  },
  {
   "cell_type": "code",
   "execution_count": null,
   "metadata": {},
   "outputs": [],
   "source": [
    "print(interview.analyze(analyst).pretty_format())"
   ]
  }
 ],
 "metadata": {
  "kernelspec": {
   "display_name": ".venv",
   "language": "python",
   "name": "python3"
  },
  "language_info": {
   "codemirror_mode": {
    "name": "ipython",
    "version": 3
   },
   "file_extension": ".py",
   "mimetype": "text/x-python",
   "name": "python",
   "nbconvert_exporter": "python",
   "pygments_lexer": "ipython3",
   "version": "3.13.1"
  }
 },
 "nbformat": 4,
 "nbformat_minor": 2
}
