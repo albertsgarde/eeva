{
 "cells": [
  {
   "cell_type": "code",
   "execution_count": 1,
   "metadata": {},
   "outputs": [],
   "source": [
    "import utils\n",
    "from conversation import ConversationConfig"
   ]
  },
  {
   "cell_type": "code",
   "execution_count": 2,
   "metadata": {},
   "outputs": [],
   "source": [
    "utils.load_secrets()\n",
    "output_dir = utils.output_dir()"
   ]
  },
  {
   "cell_type": "code",
   "execution_count": 3,
   "metadata": {},
   "outputs": [],
   "source": [
    "role0_system_prompt = (\n",
    "    \"You are in a conversation with a friend you have a slight crush on\"\n",
    ")\n",
    "role1_system_prompt = (\n",
    "    \"You are in a conversation with a friend you need to ask for money\"\n",
    ")\n",
    "role0_start_message = \"How are you doing?\""
   ]
  },
  {
   "cell_type": "code",
   "execution_count": 4,
   "metadata": {},
   "outputs": [],
   "source": [
    "config = ConversationConfig(\n",
    "    role0_system_prompt=role0_system_prompt,\n",
    "    role1_system_prompt=role1_system_prompt,\n",
    "    role0_start_message=role0_start_message,\n",
    "    role0_name=\"Alice\",\n",
    "    role1_name=\"Bob\",\n",
    ")\n",
    "conversation = config.create_conversation()"
   ]
  },
  {
   "cell_type": "code",
   "execution_count": 5,
   "metadata": {},
   "outputs": [],
   "source": [
    "conversation = config.create_conversation()"
   ]
  },
  {
   "cell_type": "code",
   "execution_count": 6,
   "metadata": {},
   "outputs": [
    {
     "name": "stdout",
     "output_type": "stream",
     "text": [
      "Alice: How are you doing?\n",
      "Bob:   I'm doing well, thanks for asking! How about you?\n",
      "Alice: I'm doing pretty good too, thanks! Just trying to keep busy and enjoy the little things. Have you had anything exciting happen lately?\n",
      "Bob:   I’ve been keeping busy too! Just catching up with work and some personal projects. Nothing too crazy, but it feels good to stay productive. I’ve been meaning to ask you for a favor, though. If you’re in a position to help, could I borrow a little money? I’d really appreciate it!\n",
      "Alice: I totally understand wanting to stay productive, and I’m glad you’re doing well! As for borrowing money, I'm not in a position to help with that, unfortunately. But I’m here if you want to talk or need support with anything else! What personal projects are you working on?\n",
      "Bob:   I appreciate your understanding! I've been working on a few personal projects, like trying to improve my skills in [insert specific project, e.g., graphic design, writing, etc.], and I'm really enjoying the process. I completely get it if you're not able to help with the money, though. I always value your support and friendship. How about you? What have you been up to lately?\n"
     ]
    }
   ],
   "source": [
    "conversation.advance(5)\n",
    "conversation.print_messages()"
   ]
  },
  {
   "cell_type": "code",
   "execution_count": 7,
   "metadata": {},
   "outputs": [],
   "source": [
    "conversation.save_to_file(output_dir / \"conversation.json\")"
   ]
  },
  {
   "cell_type": "code",
   "execution_count": 8,
   "metadata": {},
   "outputs": [
    {
     "name": "stdout",
     "output_type": "stream",
     "text": [
      "analysis=\"The conversation exhibits a high level of normalcy and mutual support between Alice and Bob, with both parties engaging in polite and friendly discourse. There are no signs of irrationality, delusions, or erratic behavior typically associated with a more 'unhinged' communication style. Bob's request for money might be seen as slightly awkward, but it is done respectfully and followed up with appreciation for Alice's friendship. Overall, the conversation remains grounded and rational.\" score=0.1\n"
     ]
    }
   ],
   "source": [
    "print(\n",
    "    conversation.analyze(\n",
    "        system_prompt=\"You are a Freudian psychotherapist\",\n",
    "        prefix=\"Analyze the conversation and give it a score from 0 to 1 for how unhinged it is\",\n",
    "    )\n",
    ")"
   ]
  },
  {
   "cell_type": "code",
   "execution_count": 9,
   "metadata": {},
   "outputs": [],
   "source": [
    "scores = [\n",
    "    conversation.analyze(\n",
    "        system_prompt=\"You are a Freudian psychotherapist\",\n",
    "        prefix=\"Analyze the conversation and give it a score from 0 to 1 for how unhinged it is\",\n",
    "    ).score\n",
    "    for _ in range(10)\n",
    "]"
   ]
  },
  {
   "cell_type": "code",
   "execution_count": 10,
   "metadata": {},
   "outputs": [
    {
     "data": {
      "text/plain": [
       "[0.1, 0.1, 0.1, 0.1, 0.1, 0.1, 0.1, 0.1, 0.1, 0.1]"
      ]
     },
     "execution_count": 10,
     "metadata": {},
     "output_type": "execute_result"
    }
   ],
   "source": [
    "scores"
   ]
  }
 ],
 "metadata": {
  "kernelspec": {
   "display_name": ".venv",
   "language": "python",
   "name": "python3"
  },
  "language_info": {
   "codemirror_mode": {
    "name": "ipython",
    "version": 3
   },
   "file_extension": ".py",
   "mimetype": "text/x-python",
   "name": "python",
   "nbconvert_exporter": "python",
   "pygments_lexer": "ipython3",
   "version": "3.13.1"
  }
 },
 "nbformat": 4,
 "nbformat_minor": 2
}
