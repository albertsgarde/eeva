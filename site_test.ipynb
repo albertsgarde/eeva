{
 "cells": [
  {
   "cell_type": "code",
   "execution_count": null,
   "metadata": {},
   "outputs": [],
   "source": [
    "import requests\n",
    "import json\n",
    "\n",
    "from eeva.interview import Interview"
   ]
  },
  {
   "cell_type": "code",
   "execution_count": null,
   "metadata": {},
   "outputs": [],
   "source": [
    "LOCAL = True\n",
    "if LOCAL:\n",
    "    SITE_URL_BASE = \"\"\"http://localhost:5173/\"\"\"\n",
    "else:\n",
    "    SITE_URL_BASE = \"\"\"https://eeva-cd-122981715181.europe-west4.run.app/\"\"\""
   ]
  },
  {
   "cell_type": "code",
   "execution_count": null,
   "metadata": {},
   "outputs": [],
   "source": [
    "def response_or_error(response):\n",
    "    if response.status_code != 200:\n",
    "        print(f\"Error: {response.status_code} - {response.text}\")\n",
    "    else:\n",
    "        return response.json()"
   ]
  },
  {
   "cell_type": "code",
   "execution_count": null,
   "metadata": {},
   "outputs": [],
   "source": [
    "if False:\n",
    "    requests.delete(f\"{SITE_URL_BASE}api/interviews\")"
   ]
  },
  {
   "cell_type": "code",
   "execution_count": null,
   "metadata": {},
   "outputs": [],
   "source": [
    "response_or_error(requests.post(f\"{SITE_URL_BASE}api/forms/test1\", json={\n",
    "    \"questions\": [ \"favourite-color\", \"favourite-bird\"]\n",
    "}))"
   ]
  },
  {
   "cell_type": "code",
   "execution_count": null,
   "metadata": {},
   "outputs": [],
   "source": [
    "response_or_error(requests.post(f\"{SITE_URL_BASE}api/form-responses/create-from-form\", json={\n",
    "    \"formId\": \"test1\"\n",
    "}))"
   ]
  },
  {
   "cell_type": "code",
   "execution_count": null,
   "metadata": {},
   "outputs": [],
   "source": [
    "response_or_error(requests.get(f\"{SITE_URL_BASE}api/form-responses/11\"))"
   ]
  },
  {
   "cell_type": "code",
   "execution_count": null,
   "metadata": {},
   "outputs": [],
   "source": [
    "response_or_error(requests.get(f\"{SITE_URL_BASE}api/questions\"))"
   ]
  },
  {
   "cell_type": "code",
   "execution_count": null,
   "metadata": {},
   "outputs": [],
   "source": [
    "json_str = \"\"\"{\n",
    "\t\"favourite-color\": {\n",
    "\t\t\"question\": \"What is your favourite colour?\",\n",
    "\t\t\"exampleAnswers\": [\"Blue... no green!\", \"I don't know!\", \"Green\", \"Blue\"]\n",
    "\t},\n",
    "\t\"favourite-bird\": {\n",
    "\t\t\"question\": \"What is your favourite bird?\",\n",
    "\t\t\"exampleAnswers\": [\"Great tits. heh\", \"Magpies\", \"Barn owls\", \"African swallows\"]\n",
    "\t}\n",
    "}\"\"\"\n",
    "\n",
    "response_or_error(requests.post(f\"{SITE_URL_BASE}api/questions\", json = json.loads(json_str), ))"
   ]
  },
  {
   "cell_type": "code",
   "execution_count": null,
   "metadata": {},
   "outputs": [],
   "source": [
    "response_or_error(requests.post(f\"{SITE_URL_BASE}api/questions\", json={\n",
    "    \"id\": \"test1\",\n",
    "    \"question\": {\n",
    "        \"question\": \"What is your name?\",\n",
    "        \"exampleAnswers\": [\"Alice\", \"Bob\", \"Charlie\", \"Eve\",]\n",
    "    }\n",
    "}))"
   ]
  },
  {
   "cell_type": "code",
   "execution_count": null,
   "metadata": {},
   "outputs": [],
   "source": [
    "response_or_error(requests.delete(f\"{SITE_URL_BASE}api/questions/favourite-color\"))"
   ]
  },
  {
   "cell_type": "code",
   "execution_count": null,
   "metadata": {},
   "outputs": [],
   "source": [
    "response = requests.get(\n",
    "    f\"{SITE_URL_BASE}api/interviews\",\n",
    ")\n",
    "\n",
    "interviews: list[tuple[int, Interview]] = [\n",
    "    (index, Interview.model_validate(json)) for index, json in response.json()\n",
    "]"
   ]
  },
  {
   "cell_type": "code",
   "execution_count": null,
   "metadata": {},
   "outputs": [],
   "source": [
    "def interview_url(index: int) -> str:\n",
    "    return f\"{SITE_URL_BASE}interviews/{index}\""
   ]
  },
  {
   "cell_type": "code",
   "execution_count": null,
   "metadata": {},
   "outputs": [],
   "source": [
    "print(f\"     Start time             {'Subject name':<22}  URL\")\n",
    "for index, interview in interviews:\n",
    "    timestamp = interview.messages[0].timestamp.replace(\"T\", \" \").split(\".\")[0]\n",
    "    print(\n",
    "        f\"{index:>3}: {timestamp}    {interview.subject_name:<22}  {interview_url(index)}\"\n",
    "    )\n"
   ]
  }
 ],
 "metadata": {
  "kernelspec": {
   "display_name": "eeva",
   "language": "python",
   "name": "python3"
  },
  "language_info": {
   "codemirror_mode": {
    "name": "ipython",
    "version": 3
   },
   "file_extension": ".py",
   "mimetype": "text/x-python",
   "name": "python",
   "nbconvert_exporter": "python",
   "pygments_lexer": "ipython3",
   "version": "3.13.4"
  }
 },
 "nbformat": 4,
 "nbformat_minor": 2
}
