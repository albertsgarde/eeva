{
 "cells": [
  {
   "cell_type": "code",
   "execution_count": null,
   "metadata": {},
   "outputs": [],
   "source": [
    "import requests\n",
    "\n",
    "from eeva.interview import Interview"
   ]
  },
  {
   "cell_type": "code",
   "execution_count": null,
   "metadata": {},
   "outputs": [],
   "source": [
    "LOCAL = True\n",
    "if LOCAL:\n",
    "    SITE_URL_BASE = \"\"\"http://localhost:5173/\"\"\"\n",
    "else:\n",
    "    SITE_URL_BASE = \"\"\"https://eeva-cd-122981715181.europe-west4.run.app/\"\"\""
   ]
  },
  {
   "cell_type": "code",
   "execution_count": null,
   "metadata": {},
   "outputs": [],
   "source": [
    "if False:\n",
    "    requests.delete(f\"{SITE_URL_BASE}api/interview\")"
   ]
  },
  {
   "cell_type": "code",
   "execution_count": null,
   "metadata": {},
   "outputs": [],
   "source": [
    "response = requests.get(\n",
    "    f\"{SITE_URL_BASE}api/interview\",\n",
    ")\n",
    "\n",
    "interviews: list[tuple[int, Interview]] = [\n",
    "    (index, Interview.model_validate(json)) for index, json in response.json()\n",
    "]"
   ]
  },
  {
   "cell_type": "code",
   "execution_count": null,
   "metadata": {},
   "outputs": [],
   "source": [
    "def interview_url(index: int) -> str:\n",
    "    return f\"{SITE_URL_BASE}interview/{index}\""
   ]
  },
  {
   "cell_type": "code",
   "execution_count": null,
   "metadata": {},
   "outputs": [],
   "source": [
    "print(f\"     Start time             {'Subject name':<22}  URL\")\n",
    "for index, interview in interviews:\n",
    "    timestamp = interview.messages[0].timestamp.replace(\"T\", \" \").split(\".\")[0]\n",
    "    print(\n",
    "        f\"{index:>3}: {timestamp}    {interview.subject_name:<22}  {interview_url(index)}\"\n",
    "    )\n"
   ]
  }
 ],
 "metadata": {
  "kernelspec": {
   "display_name": ".venv",
   "language": "python",
   "name": "python3"
  },
  "language_info": {
   "codemirror_mode": {
    "name": "ipython",
    "version": 3
   },
   "file_extension": ".py",
   "mimetype": "text/x-python",
   "name": "python",
   "nbconvert_exporter": "python",
   "pygments_lexer": "ipython3",
   "version": "3.13.1"
  }
 },
 "nbformat": 4,
 "nbformat_minor": 2
}
