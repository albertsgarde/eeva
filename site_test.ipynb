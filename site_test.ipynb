{
 "cells": [
  {
   "cell_type": "code",
   "execution_count": 9,
   "metadata": {},
   "outputs": [],
   "source": [
    "import requests\n",
    "\n",
    "from eeva.interview import Interview"
   ]
  },
  {
   "cell_type": "code",
   "execution_count": 4,
   "metadata": {},
   "outputs": [],
   "source": [
    "SITE_URL_BASE = \"\"\"http://localhost:5173/api/\"\"\""
   ]
  },
  {
   "cell_type": "code",
   "execution_count": 29,
   "metadata": {},
   "outputs": [
    {
     "name": "stdout",
     "output_type": "stream",
     "text": [
      "Interviewer: What’s something that’s been on your mind a lot lately?\n",
      "\n",
      "No rush. Take your time to answer however feels most natural.\n",
      "Alice:       hello\n",
      "Interviewer: Hello! It's great to see your message. What's been on your mind lately? I'm here to listen.\n"
     ]
    }
   ],
   "source": [
    "response = requests.get(\n",
    "    f\"{SITE_URL_BASE}interview\",\n",
    ")\n",
    "\n",
    "interviews: list[Interview] = [\n",
    "    Interview.model_validate(json) for json in response.json()\n",
    "]\n",
    "print(interviews[1].pretty_format())"
   ]
  }
 ],
 "metadata": {
  "kernelspec": {
   "display_name": ".venv",
   "language": "python",
   "name": "python3"
  },
  "language_info": {
   "codemirror_mode": {
    "name": "ipython",
    "version": 3
   },
   "file_extension": ".py",
   "mimetype": "text/x-python",
   "name": "python",
   "nbconvert_exporter": "python",
   "pygments_lexer": "ipython3",
   "version": "3.13.1"
  }
 },
 "nbformat": 4,
 "nbformat_minor": 2
}
